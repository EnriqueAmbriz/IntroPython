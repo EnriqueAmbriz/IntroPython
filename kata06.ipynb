{
 "cells": [
  {
   "cell_type": "code",
   "execution_count": null,
   "metadata": {},
   "outputs": [],
   "source": []
  },
  {
   "cell_type": "markdown",
   "metadata": {},
   "source": [
    "Ejercicio1: Crear y usar listas de Python"
   ]
  },
  {
   "cell_type": "code",
   "execution_count": 4,
   "metadata": {},
   "outputs": [
    {
     "name": "stdout",
     "output_type": "stream",
     "text": [
      "['Mercurio', 'Venus', 'la Tierra', 'Marte', 'Júpiter', 'Saturno', 'Urano', 'Neptuno']\n",
      "Pluton\n"
     ]
    }
   ],
   "source": [
    "# Creamos la lista planets sin pluton\n",
    "\n",
    "planetas = ['Mercurio', 'Venus', 'la Tierra', 'Marte', 'Júpiter',  'Saturno', 'Urano','Neptuno']\n",
    "print(planetas)\n",
    "\n",
    "# Agregamos a plutón y mostramos el último elemento\n",
    "\n",
    "planetas.append('Pluton')\n",
    "\n",
    "print(planetas[-1])"
   ]
  },
  {
   "cell_type": "markdown",
   "metadata": {},
   "source": [
    "Ejercicio 2: Trabajando con datos de una lista"
   ]
  },
  {
   "cell_type": "code",
   "execution_count": 18,
   "metadata": {},
   "outputs": [
    {
     "name": "stdout",
     "output_type": "stream",
     "text": [
      "No se encontro el planeta adasdsad\n"
     ]
    }
   ],
   "source": [
    "# Lista de planetas\n",
    "planetas = ['Mercurio', 'Venus', 'La Tierra', 'Marte', 'Jupiter',  'Saturno', 'Urano','Neptuno','Pluton']\n",
    "planetas_en_lista = len(planetas) - 1;\n",
    "\n",
    "# Solicitamos el nombre de un planeta con la primera letra mayuscula *Pista:  input()*\n",
    "planeta = input('Captura el nombre de un planeta (utiliza la primera letra en mayuscula)')\n",
    "\n",
    "try:\n",
    "        # Busca el planeta en la lista\n",
    "    posicion_planeta = planetas.index(planeta.title())\n",
    "    # Muestra los planetas más cercanos al sol con referencia del que ingreso\n",
    "    print('Planetas mas cercanos al sol que el planeta ' + planeta)\n",
    "    print(planetas[0:posicion_planeta])\n",
    "\n",
    "    # Muestra los planetas más lejanos al sol con referencia del que ingreso\n",
    "    print('Planetas mas lejanos al sol que el planeta ' + planeta)\n",
    "    print(planetas[posicion_planeta + 1:])\n",
    "\n",
    "except Exception:\n",
    "    print('No se encontro el planeta ' + planeta)"
   ]
  }
 ],
 "metadata": {
  "interpreter": {
   "hash": "d4518c20bc970b950d3f8fc369dafe043c543515d739689e31ca54c702c9c974"
  },
  "kernelspec": {
   "display_name": "Python 3.10.2 64-bit",
   "language": "python",
   "name": "python3"
  },
  "language_info": {
   "codemirror_mode": {
    "name": "ipython",
    "version": 3
   },
   "file_extension": ".py",
   "mimetype": "text/x-python",
   "name": "python",
   "nbconvert_exporter": "python",
   "pygments_lexer": "ipython3",
   "version": "3.10.2"
  },
  "orig_nbformat": 4
 },
 "nbformat": 4,
 "nbformat_minor": 2
}
